{
 "cells": [
  {
   "cell_type": "code",
   "execution_count": 1,
   "metadata": {},
   "outputs": [
    {
     "name": "stdout",
     "output_type": "stream",
     "text": [
      "frames per second = 25.0\n",
      "total number of frames = 3646\n",
      "duration of the video (in sec) = 145.84\n"
     ]
    },
    {
     "ename": "KeyboardInterrupt",
     "evalue": "",
     "output_type": "error",
     "traceback": [
      "\u001b[1;31m---------------------------------------------------------------------------\u001b[0m",
      "\u001b[1;31mKeyboardInterrupt\u001b[0m                         Traceback (most recent call last)",
      "Input \u001b[1;32mIn [1]\u001b[0m, in \u001b[0;36m<cell line: 41>\u001b[1;34m()\u001b[0m\n\u001b[0;32m     50\u001b[0m   framegray\u001b[38;5;241m=\u001b[39mcv2\u001b[38;5;241m.\u001b[39mCanny(frame,\u001b[38;5;241m100\u001b[39m,\u001b[38;5;241m200\u001b[39m)\n\u001b[0;32m     52\u001b[0m   cv2\u001b[38;5;241m.\u001b[39mimshow(\u001b[38;5;124m'\u001b[39m\u001b[38;5;124mFiltered video\u001b[39m\u001b[38;5;124m'\u001b[39m,framegray)\n\u001b[1;32m---> 54\u001b[0m   \u001b[38;5;28;01mif\u001b[39;00m \u001b[43mcv2\u001b[49m\u001b[38;5;241;43m.\u001b[39;49m\u001b[43mwaitKey\u001b[49m\u001b[43m(\u001b[49m\u001b[38;5;241;43m1\u001b[39;49m\u001b[43m)\u001b[49m \u001b[38;5;241m==\u001b[39m \u001b[38;5;241m27\u001b[39m:         \u001b[38;5;66;03m# wait for ESC key to exit, 27 is the escape key number\u001b[39;00m\n\u001b[0;32m     55\u001b[0m     \u001b[38;5;28;01mbreak\u001b[39;00m\n\u001b[0;32m     57\u001b[0m \u001b[38;5;66;03m# Break the loop\u001b[39;00m\n\u001b[0;32m     58\u001b[0m \u001b[38;5;28;01melse\u001b[39;00m: \n",
      "\u001b[1;31mKeyboardInterrupt\u001b[0m: "
     ]
    },
    {
     "ename": "",
     "evalue": "",
     "output_type": "error",
     "traceback": [
      "\u001b[1;31mThe Kernel crashed while executing code in the current cell or a previous cell. \n",
      "\u001b[1;31mPlease review the code in the cell(s) to identify a possible cause of the failure. \n",
      "\u001b[1;31mClick <a href='https://aka.ms/vscodeJupyterKernelCrash'>here</a> for more info. \n",
      "\u001b[1;31mView Jupyter <a href='command:jupyter.viewOutput'>log</a> for further details."
     ]
    }
   ],
   "source": [
    "# -*- coding: utf-8 -*-\n",
    "\"\"\"\n",
    "Created on Sun Jun 11 13:51:04 2023\n",
    "\n",
    "@author: MaryamHashemi\n",
    "\"\"\"\n",
    "############################### 4.1 Exercise #####################################\n",
    "\n",
    "############################ 4.1.1 ####################################\n",
    "import cv2\n",
    "\n",
    "#captures all the frames\n",
    "video = cv2.VideoCapture('COMP9414_Tutorial_7_Solution/tom_and_jerry.mp4')\n",
    "\n",
    "#Check if video opened successfully\n",
    "if (video.isOpened()== False): \n",
    "    print(\"Error opening video stream or file\")\n",
    " \n",
    " \n",
    " \n",
    "#fram/sec in video and duration of it\n",
    "fps = video.get(cv2.CAP_PROP_FPS)\n",
    "print('frames per second =',fps)\n",
    "\n",
    "#total number of frames\n",
    "length = int(video.get(cv2.CAP_PROP_FRAME_COUNT))\n",
    "print('total number of frames =',length)\n",
    "print('duration of the video (in sec) =',length/fps)\n",
    "\n",
    "video.set(cv2.CAP_PROP_POS_FRAMES, 102)\n",
    "ret, frame = video.read()\n",
    "cv2.imshow('Frame 1002', frame)\n",
    "\n",
    "cv2.waitKey(0)\n",
    "cv2.destroyAllWindows()\n",
    "\n",
    "\n",
    "############################ 4.1.2 ####################################\n",
    "\n",
    "# Read until video is completed\n",
    "while(video.isOpened()):\n",
    "  # Capture frame-by-frame\n",
    "  ret, frame = video.read()\n",
    "  if ret == True:\n",
    "    # Display the resulting frame\n",
    "    cv2.imshow('Original video',frame)\n",
    "   \n",
    "    # framegray=cv2.cvtColor(frame,cv2.COLOR_BGR2GRAY)\n",
    "    #100 and 200 are lower and upper threshold\n",
    "    framegray=cv2.Canny(frame,100,200)\n",
    "    \n",
    "    cv2.imshow('Filtered video',framegray)\n",
    "\n",
    "    if cv2.waitKey(1) == 27:         # wait for ESC key to exit, 27 is the escape key number\n",
    "      break\n",
    " \n",
    "  # Break the loop\n",
    "  else: \n",
    "    break\n",
    " \n",
    "# When everything done, release the video capture object\n",
    "video.release()\n",
    " \n",
    "# Closes all the frames\n",
    "cv2.destroyAllWindows()\n",
    "\n"
   ]
  }
 ],
 "metadata": {
  "kernelspec": {
   "display_name": "Python 3",
   "language": "python",
   "name": "python3"
  },
  "language_info": {
   "codemirror_mode": {
    "name": "ipython",
    "version": 3
   },
   "file_extension": ".py",
   "mimetype": "text/x-python",
   "name": "python",
   "nbconvert_exporter": "python",
   "pygments_lexer": "ipython3",
   "version": "3.10.5"
  }
 },
 "nbformat": 4,
 "nbformat_minor": 2
}
