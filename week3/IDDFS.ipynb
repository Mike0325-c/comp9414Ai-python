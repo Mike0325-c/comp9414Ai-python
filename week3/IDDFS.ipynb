{
 "cells": [
  {
   "cell_type": "code",
   "execution_count": 16,
   "metadata": {},
   "outputs": [
    {
     "name": "stdout",
     "output_type": "stream",
     "text": [
      "{0}\n",
      "{0}\n",
      "{0, 1}\n",
      "{0, 1, 2}\n",
      "Target is reachable from source within max depth\n"
     ]
    }
   ],
   "source": [
    "# Python program to print DFS traversal from a given\n",
    "# given graph\n",
    "from collections import defaultdict\n",
    "\n",
    "# This class represents a directed graph using adjacency\n",
    "# list representation\n",
    "class Graph:\n",
    "\n",
    "    def __init__(self,vertices):\n",
    "\n",
    "        # No. of vertices\n",
    "        self.V = vertices\n",
    "        self.visited = set()\n",
    "        # default dictionary to store graph\n",
    "        self.graph = defaultdict(list)\n",
    "\n",
    "    # function to add an edge to graph\n",
    "    def addEdge(self,u,v):\n",
    "        self.graph[u].append(v)\n",
    "\n",
    "    # A function to perform a Depth-Limited search\n",
    "    # from given source 'src'\n",
    "    def DLS(self,src,target,maxDepth):\n",
    "        # if visited == none:\n",
    "        #     visited = set\n",
    "        if src == target : return True\n",
    "\n",
    "        # If reached the maximum depth, stop recursing.\n",
    "        if maxDepth <= 0 : return False\n",
    "        self.visited.add(src)\n",
    "        print(self.visited)\n",
    "\n",
    "        # Recur for all the vertices adjacent to this vertex\n",
    "        for i in self.graph[src]:\n",
    "            if i not in self.visited:\n",
    "                if(self.DLS(i,target,maxDepth-1)):\n",
    "                    return True\n",
    "        return False\n",
    "\n",
    "    # IDDFS to search if target is reachable from v.\n",
    "    # It uses recursive DLS()\n",
    "    def IDDFS(self,src, target, maxDepth):\n",
    "        \n",
    "        # Repeatedly depth-limit search till the\n",
    "        # maximum depth\n",
    "        for i in range(maxDepth):\n",
    "            if (self.DLS(src, target, i)):\n",
    "                return True\n",
    "        return False\n",
    "\n",
    "# Create a graph given in the above diagram\n",
    "g = Graph (7);\n",
    "g.addEdge(0, 1)\n",
    "g.addEdge(0, 2)\n",
    "g.addEdge(1, 3)\n",
    "g.addEdge(1, 4)\n",
    "g.addEdge(2, 5)\n",
    "g.addEdge(2, 6)\n",
    "\n",
    "target = 6; maxDepth = 3; src = 0\n",
    "\n",
    "if g.IDDFS(src, target, maxDepth) == True:\n",
    "    print (\"Target is reachable from source \" +\n",
    "        \"within max depth\")\n",
    "else :\n",
    "    print (\"Target is NOT reachable from source \" +\n",
    "        \"within max depth\")\n",
    "\n",
    "# This code is contributed by Neelam Pandey"
   ]
  },
  {
   "cell_type": "code",
   "execution_count": 3,
   "metadata": {},
   "outputs": [
    {
     "name": "stdout",
     "output_type": "stream",
     "text": [
      "a\n",
      "b\n",
      "a\n",
      "b\n",
      "c\n",
      "defaultdict(<class 'list'>, {'a': [1, 3], 'b': [2, 4], 'c': [5]})\n"
     ]
    }
   ],
   "source": [
    "data = [('a', 1), ('b', 2), ('a', 3), ('b', 4), ('c', 5)]\n",
    "\n",
    "grouped_data = defaultdict(list)\n",
    "\n",
    "for key, value in data:\n",
    "    print(key)\n",
    "    grouped_data[key].append(value)\n",
    "\n",
    "print(grouped_data)  # Output: defaultdict(<class 'list'>, {'a': [1, 3], 'b': [2, 4], 'c': [5]})"
   ]
  }
 ],
 "metadata": {
  "kernelspec": {
   "display_name": "Python 3",
   "language": "python",
   "name": "python3"
  },
  "language_info": {
   "codemirror_mode": {
    "name": "ipython",
    "version": 3
   },
   "file_extension": ".py",
   "mimetype": "text/x-python",
   "name": "python",
   "nbconvert_exporter": "python",
   "pygments_lexer": "ipython3",
   "version": "3.10.5"
  }
 },
 "nbformat": 4,
 "nbformat_minor": 2
}
