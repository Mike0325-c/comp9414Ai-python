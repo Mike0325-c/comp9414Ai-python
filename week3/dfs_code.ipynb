{
 "cells": [
  {
   "cell_type": "code",
   "execution_count": 1,
   "metadata": {},
   "outputs": [
    {
     "name": "stdout",
     "output_type": "stream",
     "text": [
      "Preorder traversal: 1 2 4 5 3 \n"
     ]
    }
   ],
   "source": [
    "class Node:\n",
    "    # Constructor to create a new node\n",
    "    def __init__(self, data):\n",
    "        # Assign data to this node\n",
    "        self.data = data\n",
    "        # Initialize left and right children as None\n",
    "        self.left = None\n",
    "        self.right = None\n",
    "\n",
    "\n",
    "\n",
    "# class \n",
    "# Function to perform preorder traversal\n",
    "def preorderTraversal(root):\n",
    "    # Base case: if the current node is null, return\n",
    "    if root is None:\n",
    "        return\n",
    "    # Visit the current node\n",
    "    print(root.data, end=' ')\n",
    "    # Recur on the left subtree\n",
    "    preorderTraversal(root.left)\n",
    "    # Recur on the right subtree\n",
    "    preorderTraversal(root.right)\n",
    "\n",
    "# Main function\n",
    "def main():\n",
    "    # Creating the tree nodes\n",
    "    root = Node(1)\n",
    "    root.left = Node(2)\n",
    "    root.right = Node(3)\n",
    "    root.left.left = Node(4)\n",
    "    root.left.right = Node(5)\n",
    "\n",
    "    # Perform preorder traversal\n",
    "    print(\"Preorder traversal: \", end='')\n",
    "    preorderTraversal(root)\n",
    "    print()\n",
    "\n",
    "# Run the main function\n",
    "if __name__ == \"__main__\":\n",
    "    main()"
   ]
  },
  {
   "cell_type": "code",
   "execution_count": 3,
   "metadata": {},
   "outputs": [
    {
     "name": "stdout",
     "output_type": "stream",
     "text": [
      "Depth First Traversal:\n",
      "A B D {'D', 'A', 'B'} 111\n",
      "E F {'A', 'F', 'E', 'B', 'D'} 111\n",
      "{'A', 'F', 'E', 'B', 'D'} 111\n",
      "{'A', 'F', 'E', 'B', 'D'} 111\n",
      "C {'A', 'F', 'C', 'E', 'B', 'D'} 111\n",
      "{'A', 'F', 'C', 'E', 'B', 'D'} 111\n"
     ]
    }
   ],
   "source": [
    "def dfs(graph, start, visited=None):\n",
    "    if visited is None:\n",
    "        visited = set()\n",
    "    visited.add(start)\n",
    "    print(start, end=' ')\n",
    "    for neighbor in graph[start]:\n",
    "        if neighbor not in visited:\n",
    "            dfs(graph, neighbor, visited)\n",
    "    # print(visited,'111')  \n",
    "# Example usage:\n",
    "graph = {\n",
    "    'A': ['B', 'C'],\n",
    "    'B': ['D', 'E'],\n",
    "    'C': ['F'],\n",
    "    'D': [],\n",
    "    'E': ['F'],\n",
    "    'F': []\n",
    "}\n",
    "print(\"Depth First Traversal:\")\n",
    "dfs(graph, 'A')\n"
   ]
  },
  {
   "cell_type": "code",
   "execution_count": 5,
   "metadata": {},
   "outputs": [
    {
     "name": "stdout",
     "output_type": "stream",
     "text": [
      "[1, 3]\n",
      "aaa\n"
     ]
    }
   ],
   "source": [
    "lista = [1]\n",
    "listb = [3]\n",
    "listc = lista+listb\n",
    "print(listc)\n",
    "if []:\n",
    "    print('aaa')"
   ]
  },
  {
   "cell_type": "code",
   "execution_count": null,
   "metadata": {},
   "outputs": [],
   "source": []
  }
 ],
 "metadata": {
  "kernelspec": {
   "display_name": "Python 3",
   "language": "python",
   "name": "python3"
  },
  "language_info": {
   "codemirror_mode": {
    "name": "ipython",
    "version": 3
   },
   "file_extension": ".py",
   "mimetype": "text/x-python",
   "name": "python",
   "nbconvert_exporter": "python",
   "pygments_lexer": "ipython3",
   "version": "3.10.5"
  }
 },
 "nbformat": 4,
 "nbformat_minor": 2
}
