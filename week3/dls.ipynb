{
 "cells": [
  {
   "cell_type": "code",
   "execution_count": 1,
   "metadata": {},
   "outputs": [
    {
     "name": "stdout",
     "output_type": "stream",
     "text": [
      "Depth Limited Traversal:\n",
      "A B C "
     ]
    }
   ],
   "source": [
    "def dls(graph, start, depth, visited=None):\n",
    "    if visited is None:\n",
    "        visited = set()\n",
    "    if depth == 0:\n",
    "        return\n",
    "    visited.add(start)\n",
    "    print(start, end=' ')\n",
    "    for neighbor in graph[start]:\n",
    "        if neighbor not in visited:\n",
    "            dls(graph, neighbor, depth-1, visited)\n",
    "\n",
    "# Example usage:\n",
    "graph = {\n",
    "    'A': ['B', 'C'],\n",
    "    'B': ['D', 'E'],\n",
    "    'C': ['F'],\n",
    "    'D': [],\n",
    "    'E': ['F'],\n",
    "    'F': []\n",
    "}\n",
    "print(\"Depth Limited Traversal:\")\n",
    "dls(graph, 'A', 2)"
   ]
  }
 ],
 "metadata": {
  "kernelspec": {
   "display_name": "Python 3",
   "language": "python",
   "name": "python3"
  },
  "language_info": {
   "codemirror_mode": {
    "name": "ipython",
    "version": 3
   },
   "file_extension": ".py",
   "mimetype": "text/x-python",
   "name": "python",
   "nbconvert_exporter": "python",
   "pygments_lexer": "ipython3",
   "version": "3.10.13"
  }
 },
 "nbformat": 4,
 "nbformat_minor": 2
}
