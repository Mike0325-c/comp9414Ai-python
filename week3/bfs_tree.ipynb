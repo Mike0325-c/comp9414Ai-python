{
 "cells": [
  {
   "cell_type": "code",
   "execution_count": 3,
   "metadata": {},
   "outputs": [
    {
     "ename": "IndentationError",
     "evalue": "expected an indented block after class definition on line 5 (2943698913.py, line 7)",
     "output_type": "error",
     "traceback": [
      "\u001b[1;36m  Input \u001b[1;32mIn [3]\u001b[1;36m\u001b[0m\n\u001b[1;33m    class Node:\u001b[0m\n\u001b[1;37m    ^\u001b[0m\n\u001b[1;31mIndentationError\u001b[0m\u001b[1;31m:\u001b[0m expected an indented block after class definition on line 5\n"
     ]
    }
   ],
   "source": [
    "# Python program to print level\n",
    "# order traversal using Queue\n",
    "import queue\n",
    "\n",
    "\n",
    "# A node structure\n",
    "class Node:\n",
    "\n",
    "    # A utility function to create a new node\n",
    "    def __init__(self, key):\n",
    "        self.data = key\n",
    "        self.left = None\n",
    "        self.right = None\n",
    "\n",
    "\n",
    "# Iterative Method to print the\n",
    "# height of a binary tree\n",
    "\n",
    "def printLevelOrder(root):\n",
    "\n",
    "    # Base Case\n",
    "    if root is None:\n",
    "        return\n",
    "\n",
    "    # Create an empty queue\n",
    "    # for level order traversal\n",
    "    queue = []\n",
    "\n",
    "    # Enqueue Root and initialize height\n",
    "    queue.append(root)\n",
    "\n",
    "    while(len(queue) > 0):\n",
    "\n",
    "        # Print front of queue and\n",
    "        # remove it from queue\n",
    "        print(queue[0].data, end=\" \")\n",
    "        node = queue.pop(0)\n",
    "\n",
    "        # Enqueue left child\n",
    "        if node.left is not None:\n",
    "            queue.append(node.left)\n",
    "\n",
    "        # Enqueue right child\n",
    "        if node.right is not None:\n",
    "            queue.append(node.right)\n",
    "\n",
    "\n",
    "# Driver Program to test above function\n",
    "if __name__ == '__main__':\n",
    "    root = Node(1)\n",
    "    root.left = Node(2)\n",
    "    root.right = Node(3)\n",
    "    root.left.left = Node(4)\n",
    "    root.left.right = Node(5)\n",
    "    root.left.right.left = Node(6)\n",
    "\n",
    "    print(\"Level Order Traversal of binary tree is -\")\n",
    "    printLevelOrder(root)\n",
    "\n"
   ]
  },
  {
   "cell_type": "code",
   "execution_count": 12,
   "metadata": {},
   "outputs": [
    {
     "name": "stdout",
     "output_type": "stream",
     "text": [
      "[[1, 2], [3], [4], [], []]\n",
      "[False, False, False, False, False]\n",
      "Breadth First Traversal starting from vertex 0: 0 1 2 3 4 "
     ]
    }
   ],
   "source": [
    "from collections import deque\n",
    "\n",
    "# Function to perform Breadth First Search on a graph\n",
    "# represented using adjacency list\n",
    "def bfs(adjList, startNode, visited):\n",
    "    # Create a queue for BFS\n",
    "    q = deque()\n",
    "\n",
    "    # Mark the current node as visited and enqueue it\n",
    "    visited[startNode] = True\n",
    "    q.append(startNode)\n",
    "\n",
    "    # Iterate over the queue\n",
    "    while q:\n",
    "        # Dequeue a vertex from queue and print it\n",
    "        \n",
    "        currentNode = q.popleft()\n",
    "        print(currentNode, end=\" \")\n",
    "        \n",
    "        # Get all adjacent vertices of the dequeued vertex\n",
    "        # If an adjacent has not been visited, then mark it visited and enqueue it\n",
    "        for neighbor in adjList[currentNode]:\n",
    "            if not visited[neighbor]:\n",
    "                visited[neighbor] = True\n",
    "                q.append(neighbor)\n",
    "\n",
    "# Function to add an edge to the graph\n",
    "def addEdge(adjList, u, v):\n",
    "    adjList[u].append(v)\n",
    "\n",
    "def main():\n",
    "    # Number of vertices in the graph\n",
    "    vertices = 5\n",
    "\n",
    "    # Adjacency list representation of the graph\n",
    "    adjList = [[] for i in range(vertices)]\n",
    "    \n",
    "    # Add edges to the graph\n",
    "    addEdge(adjList, 0, 1)\n",
    "    addEdge(adjList, 0, 2)\n",
    "    addEdge(adjList, 1, 3)\n",
    "    # addEdge(adjList, 1, 4)\n",
    "    addEdge(adjList, 2, 4)\n",
    "    print(adjList)\n",
    "    # Mark all the vertices as not visited\n",
    "    visited = [False] * vertices\n",
    "    print(visited)\n",
    "    # Perform BFS traversal starting from vertex 0\n",
    "    print(\"Breadth First Traversal starting from vertex 0:\", end=\" \")\n",
    "    bfs(adjList, 0, visited)\n",
    "\n",
    "if __name__ == \"__main__\":\n",
    "    main()"
   ]
  },
  {
   "cell_type": "code",
   "execution_count": 32,
   "metadata": {},
   "outputs": [
    {
     "ename": "IndentationError",
     "evalue": "expected an indented block after function definition on line 17 (1264827915.py, line 19)",
     "output_type": "error",
     "traceback": [
      "\u001b[1;36m  Input \u001b[1;32mIn [32]\u001b[1;36m\u001b[0m\n\u001b[1;33m    graph = {\u001b[0m\n\u001b[1;37m    ^\u001b[0m\n\u001b[1;31mIndentationError\u001b[0m\u001b[1;31m:\u001b[0m expected an indented block after function definition on line 17\n"
     ]
    }
   ],
   "source": [
    "from collections import deque\n",
    "\n",
    "def bfs(graph, start):\n",
    "    visited = set()\n",
    "    queue = deque([start])\n",
    "    print(queue)\n",
    "    visited.add(start)\n",
    "    while queue:\n",
    "        node = queue.popleft()\n",
    "        print(node, end=' ')\n",
    "        for neighbor in graph[node]:\n",
    "            if neighbor not in visited:\n",
    "                queue.append(neighbor)\n",
    "                visited.add(neighbor)\n",
    "                \n",
    "\n",
    "# Example usage:\n",
    "graph = {\n",
    "    'A': ['B', 'C'],\n",
    "    'B': ['D', 'E'],\n",
    "    'C': ['F'],\n",
    "    'D': [],\n",
    "    'E': ['F'],\n",
    "    'F': []\n",
    "}\n",
    "print(\"Breadth First Traversal:\")\n",
    "bfs(graph, 'A')"
   ]
  },
  {
   "cell_type": "code",
   "execution_count": 31,
   "metadata": {},
   "outputs": [
    {
     "name": "stdout",
     "output_type": "stream",
     "text": [
      "deque(['1'])\n",
      "deque(['1', 2])\n",
      "<built-in method popleft of collections.deque object at 0x0000022FEA0B3E20>\n"
     ]
    }
   ],
   "source": [
    "a = deque('1')\n",
    "print(a)\n",
    "a.append(2)\n",
    "print(a)\n",
    "b = a.popleft()\n",
    "print(b)"
   ]
  }
 ],
 "metadata": {
  "kernelspec": {
   "display_name": "Python 3",
   "language": "python",
   "name": "python3"
  },
  "language_info": {
   "codemirror_mode": {
    "name": "ipython",
    "version": 3
   },
   "file_extension": ".py",
   "mimetype": "text/x-python",
   "name": "python",
   "nbconvert_exporter": "python",
   "pygments_lexer": "ipython3",
   "version": "3.10.5"
  }
 },
 "nbformat": 4,
 "nbformat_minor": 2
}
