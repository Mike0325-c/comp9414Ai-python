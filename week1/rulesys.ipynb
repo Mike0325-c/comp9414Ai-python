{
 "cells": [
  {
   "cell_type": "code",
   "execution_count": 3,
   "metadata": {},
   "outputs": [
    {
     "name": "stdout",
     "output_type": "stream",
     "text": [
      "<TimeLimit<OrderEnforcing<PassiveEnvChecker<MountainCarEnv<MountainCar-v0>>>>>\n",
      "[-0.44891605  0.        ] observation\n",
      "{}\n",
      "start\n",
      "93\n"
     ]
    }
   ],
   "source": [
    "# def is_prime(n):\n",
    "#     if n < 2:\n",
    "#         return False\n",
    "#     for i in range(2, int(n**0.5) + 1):\n",
    "#         if n % i == 0:\n",
    "#             return False\n",
    "#     return True\n",
    "\n",
    "# primes = [num for num in range(1, 1001) if is_prime(num)]\n",
    "# print(primes)\n",
    "\n",
    "\n",
    "\n",
    "# import matplotlib\n",
    "\n",
    "import time \n",
    "import gymnasium as gym \n",
    "\n",
    "env = gym.make(\"MountainCar-v0\", render_mode=\"human\")\n",
    "observation, info = env.reset()\n",
    "print(env)\n",
    "print(observation, 'observation')\n",
    "print(info)\n",
    "\n",
    "print(\"start\")\n",
    "step = 0\n",
    "\n",
    "for _ in range(200):\n",
    "    # time.sleep(0.01)\n",
    "    if observation[0] > -0.53 and observation[1] > 0:\n",
    "        action = 2\n",
    "        \n",
    "    elif observation[0] < -0.53 and observation[1] < 0:\n",
    "        action = 0\n",
    "    elif observation[0] < -0.53 and observation[1] > 0:\n",
    "        action = 2\n",
    "    elif observation[0] > -0.53 and observation[1] < 0:\n",
    "        action = 0\n",
    "    else:\n",
    "        action = 1\n",
    "    # action = env.action_space.sample()\n",
    "    observation, reward, terminated, truncated, info = env.step(action)\n",
    "    step += 1\n",
    "    if terminated or truncated:\n",
    "        observation, info = env.reset()\n",
    "        break\n",
    "print(step)\n",
    "env.close()\n",
    "\n"
   ]
  },
  {
   "cell_type": "code",
   "execution_count": 9,
   "metadata": {},
   "outputs": [
    {
     "name": "stdout",
     "output_type": "stream",
     "text": [
      "Formatted current date and time: 2024-07-25 18:05:56\n",
      "Parsed date and time: 25\n",
      "Current date: 2024-07-25\n",
      "future 2024-08-17\n"
     ]
    }
   ],
   "source": [
    "import datetime\n",
    "now = datetime.datetime.now()\n",
    "# 格式化当前日期时间\n",
    "formatted_now = now.strftime(\"%Y-%m-%d %H:%M:%S\")\n",
    "print(\"Formatted current date and time:\", formatted_now)\n",
    "\n",
    "# 从字符串解析日期时间\n",
    "date_string = \"2024-07-25 14:30:45\"\n",
    "parsed_date = datetime.datetime.strptime(date_string, \"%Y-%m-%d %H:%M:%S\")\n",
    "print(\"Parsed date and time:\", parsed_date.day)\n",
    "\n",
    "today = datetime.date.today()\n",
    "print(\"Current date:\", today)\n",
    "today = today + datetime.timedelta(23)\n",
    "print('future',today)\n"
   ]
  }
 ],
 "metadata": {
  "kernelspec": {
   "display_name": "Python 3",
   "language": "python",
   "name": "python3"
  },
  "language_info": {
   "codemirror_mode": {
    "name": "ipython",
    "version": 3
   },
   "file_extension": ".py",
   "mimetype": "text/x-python",
   "name": "python",
   "nbconvert_exporter": "python",
   "pygments_lexer": "ipython3",
   "version": "3.10.5"
  }
 },
 "nbformat": 4,
 "nbformat_minor": 2
}
