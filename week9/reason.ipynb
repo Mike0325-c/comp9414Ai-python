{
 "cells": [
  {
   "cell_type": "code",
   "execution_count": 10,
   "metadata": {},
   "outputs": [
    {
     "name": "stdout",
     "output_type": "stream",
     "text": [
      "{\n",
      "    \"class\" : \"Distribution\",\n",
      "    \"dtype\" : \"str\",\n",
      "    \"name\" : \"DiscreteDistribution\",\n",
      "    \"parameters\" : [\n",
      "        {\n",
      "            \"bowel problem\" : 0.01,\n",
      "            \"no bowel problem\" : 0.99\n",
      "        }\n",
      "    ],\n",
      "    \"frozen\" : false\n",
      "}\n"
     ]
    }
   ],
   "source": [
    "import pomegranate as pg\n",
    "import skfuzzy\n",
    "\n",
    "fo = pg.DiscreteDistribution({'family out':0.15,'family home':0.85})\n",
    "bp = pg.DiscreteDistribution({'bowel problem':0.01,'no bowel problem':0.99})\n",
    "print(bp)"
   ]
  },
  {
   "cell_type": "code",
   "execution_count": 12,
   "metadata": {},
   "outputs": [
    {
     "name": "stderr",
     "output_type": "stream",
     "text": [
      "<>:4: SyntaxWarning: list indices must be integers or slices, not tuple; perhaps you missed a comma?\n",
      "<>:4: SyntaxWarning: list indices must be integers or slices, not tuple; perhaps you missed a comma?\n",
      "C:\\Users\\jjy\\AppData\\Local\\Temp\\ipykernel_7600\\1023626077.py:4: SyntaxWarning: list indices must be integers or slices, not tuple; perhaps you missed a comma?\n",
      "  ['family home', 'light off', 0.95]\n",
      "C:\\Users\\jjy\\AppData\\Local\\Temp\\ipykernel_7600\\1023626077.py:4: SyntaxWarning: list indices must be integers or slices, not tuple; perhaps you missed a comma?\n",
      "  ['family home', 'light off', 0.95]\n",
      "C:\\Users\\jjy\\AppData\\Local\\Temp\\ipykernel_7600\\1023626077.py:4: SyntaxWarning: list indices must be integers or slices, not tuple; perhaps you missed a comma?\n",
      "  ['family home', 'light off', 0.95]\n"
     ]
    },
    {
     "ename": "TypeError",
     "evalue": "list indices must be integers or slices, not tuple",
     "output_type": "error",
     "traceback": [
      "\u001b[1;31m---------------------------------------------------------------------------\u001b[0m",
      "\u001b[1;31mTypeError\u001b[0m                                 Traceback (most recent call last)",
      "Cell \u001b[1;32mIn[12], line 4\u001b[0m\n\u001b[0;32m      1\u001b[0m lo \u001b[38;5;241m=\u001b[39m pg\u001b[38;5;241m.\u001b[39mConditionalProbabilityTable(\n\u001b[0;32m      2\u001b[0m     [[\u001b[38;5;124m'\u001b[39m\u001b[38;5;124mfamily home\u001b[39m\u001b[38;5;124m'\u001b[39m, \u001b[38;5;124m'\u001b[39m\u001b[38;5;124mlight off\u001b[39m\u001b[38;5;124m'\u001b[39m, \u001b[38;5;241m0.95\u001b[39m],\n\u001b[0;32m      3\u001b[0m      [\u001b[38;5;124m'\u001b[39m\u001b[38;5;124mfamily home\u001b[39m\u001b[38;5;124m'\u001b[39m, \u001b[38;5;124m'\u001b[39m\u001b[38;5;124mlight off\u001b[39m\u001b[38;5;124m'\u001b[39m, \u001b[38;5;241m0.95\u001b[39m],\n\u001b[1;32m----> 4\u001b[0m      \u001b[43m[\u001b[49m\u001b[38;5;124;43m'\u001b[39;49m\u001b[38;5;124;43mfamily home\u001b[39;49m\u001b[38;5;124;43m'\u001b[39;49m\u001b[43m,\u001b[49m\u001b[43m \u001b[49m\u001b[38;5;124;43m'\u001b[39;49m\u001b[38;5;124;43mlight off\u001b[39;49m\u001b[38;5;124;43m'\u001b[39;49m\u001b[43m,\u001b[49m\u001b[43m \u001b[49m\u001b[38;5;241;43m0.95\u001b[39;49m\u001b[43m]\u001b[49m\n\u001b[0;32m      5\u001b[0m \u001b[43m     \u001b[49m\u001b[43m[\u001b[49m\u001b[38;5;124;43m'\u001b[39;49m\u001b[38;5;124;43mfamily home\u001b[39;49m\u001b[38;5;124;43m'\u001b[39;49m\u001b[43m,\u001b[49m\u001b[43m \u001b[49m\u001b[38;5;124;43m'\u001b[39;49m\u001b[38;5;124;43mlight off\u001b[39;49m\u001b[38;5;124;43m'\u001b[39;49m\u001b[43m,\u001b[49m\u001b[43m \u001b[49m\u001b[38;5;241;43m0.95\u001b[39;49m\u001b[43m]\u001b[49m] ,[fo]\n\u001b[0;32m      6\u001b[0m     \n\u001b[0;32m      7\u001b[0m )\n",
      "\u001b[1;31mTypeError\u001b[0m: list indices must be integers or slices, not tuple"
     ]
    }
   ],
   "source": [
    "lo = pg.ConditionalProbabilityTable(\n",
    "    [['family home', 'light off', 0.95],\n",
    "     ['family home', 'light on', 0.95],\n",
    "     ['family out', 'light off', 0.95],\n",
    "     ['family out', 'light on', 0.95]] ,[fo]\n",
    "    \n",
    ")\n",
    "\n",
    "do = pg.ConditionalProbabilityTable([['light']])\n"
   ]
  },
  {
   "cell_type": "code",
   "execution_count": 13,
   "metadata": {},
   "outputs": [],
   "source": [
    "import skfuzzy as fuzz\n",
    "fuzz.trapmf"
   ]
  }
 ],
 "metadata": {
  "kernelspec": {
   "display_name": "Python 3",
   "language": "python",
   "name": "python3"
  },
  "language_info": {
   "codemirror_mode": {
    "name": "ipython",
    "version": 3
   },
   "file_extension": ".py",
   "mimetype": "text/x-python",
   "name": "python",
   "nbconvert_exporter": "python",
   "pygments_lexer": "ipython3",
   "version": "3.10.14"
  }
 },
 "nbformat": 4,
 "nbformat_minor": 2
}
