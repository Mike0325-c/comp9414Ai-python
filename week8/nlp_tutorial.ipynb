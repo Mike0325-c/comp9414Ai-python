{
 "cells": [
  {
   "cell_type": "code",
   "execution_count": 2,
   "metadata": {},
   "outputs": [
    {
     "name": "stderr",
     "output_type": "stream",
     "text": [
      "[nltk_data] Downloading package movie_reviews to\n",
      "[nltk_data]     C:\\Users\\jjy\\AppData\\Roaming\\nltk_data...\n",
      "[nltk_data]   Package movie_reviews is already up-to-date!\n"
     ]
    },
    {
     "data": {
      "text/plain": [
       "True"
      ]
     },
     "execution_count": 2,
     "metadata": {},
     "output_type": "execute_result"
    }
   ],
   "source": [
    "import nltk\n",
    "nltk.download('movie_reviews')"
   ]
  },
  {
   "cell_type": "code",
   "execution_count": 8,
   "metadata": {},
   "outputs": [
    {
     "name": "stdout",
     "output_type": "stream",
     "text": [
      "2000\n"
     ]
    }
   ],
   "source": [
    "from nltk.corpus import movie_reviews\n",
    "nltk_data = []\n",
    "for id in movie_reviews.fileids():\n",
    "    nltk_data.append((movie_reviews.raw(id),movie_reviews.categories(id)[0]))\n",
    "    \n",
    "print(len(nltk_data))"
   ]
  },
  {
   "cell_type": "code",
   "execution_count": 9,
   "metadata": {},
   "outputs": [
    {
     "name": "stdout",
     "output_type": "stream",
     "text": [
      "<WordListCorpusReader in '.../corpora/stopwords' (not loaded yet)>\n"
     ]
    }
   ],
   "source": [
    "import re\n",
    "from nltk.corpus import stopwords\n",
    "\n",
    "def clean_review(text):\n",
    "    text = text.lower()  # Convert to lowercase\n",
    "    text = re.sub(r'http\\S+', '', text)  # Remove URLs\n",
    "    text = re.sub(r'[^a-z\\s]', '', text)  # Remove special characters and numbers\n",
    "    text = re.sub(r'\\s+', ' ', text)  # Remove multiple spaces\n",
    "    stop_words = set(stopwords.words('english'))\n",
    "    \n",
    "    return text\n",
    "\n"
   ]
  },
  {
   "cell_type": "code",
   "execution_count": 15,
   "metadata": {},
   "outputs": [
    {
     "name": "stdout",
     "output_type": "stream",
     "text": [
      "{'my', 'mightn', 'shan', 'myself', 'when', 'couldn', 'all', 'ourselves', 'or', 'above', 'are', 'while', \"that'll\", 'their', 's', 'some', 'll', 'so', 'about', 'by', 'below', 'this', 'those', 'against', 'hers', 'nor', 'which', 'after', 'same', 'he', 'does', 'each', 'own', 'then', 'more', \"mustn't\", 'any', 'herself', 'mustn', 'i', \"it's\", 'if', 'because', 'been', 'weren', \"hasn't\", 'we', 'should', 'at', 'few', 're', 'theirs', \"you'd\", 'off', 'y', 'just', 'has', 'its', 'be', 'of', 'over', 'o', 'only', 'from', 'these', 'you', 'during', 'for', 'him', 'up', 'was', 'and', 'how', 'isn', 'now', 'hasn', 'down', 'd', \"shouldn't\", 'on', \"hadn't\", 'ma', 'as', \"needn't\", 'yourself', 'being', 'until', 'your', \"couldn't\", 'shouldn', \"isn't\", 'do', 'our', 'themselves', 'himself', 'through', 'it', 'had', 'very', 'between', 'her', 'too', 't', 'once', 'his', \"wouldn't\", \"you're\", 'wouldn', 'doesn', \"weren't\", 'the', 've', 'itself', 'there', 'yours', 'to', 'aren', \"you've\", 'with', 'me', 'into', 'such', 'having', 'further', 'can', 'hadn', 'an', 'haven', \"won't\", 'not', \"should've\", 'yourselves', 'm', 'won', 'them', 'who', 'is', \"mightn't\", 'that', \"shan't\", 'a', \"she's\", 'did', 'no', 'have', 'but', 'out', \"haven't\", 'don', 'under', 'where', \"don't\", 'needn', \"doesn't\", \"wasn't\", 'ours', 'wasn', 'she', 'both', 'than', 'why', 'they', 'again', 'most', 'whom', 'were', 'will', 'doing', 'other', 'didn', \"didn't\", 'ain', \"you'll\", 'in', 'before', 'what', 'am', 'here', \"aren't\"} stop_word\n",
      "['This', 'is', 'a', 'sample', 'sentence', ',', 'showing', 'off', 'the', 'stop', 'words', 'filtration', '.'] this is work\n",
      "Original text: This is a sample sentence, showing off the stop words filtration.\n",
      "Filtered text: sample sentence , showing stop words filtration .\n"
     ]
    },
    {
     "name": "stderr",
     "output_type": "stream",
     "text": [
      "[nltk_data] Downloading package stopwords to\n",
      "[nltk_data]     C:\\Users\\jjy\\AppData\\Roaming\\nltk_data...\n",
      "[nltk_data]   Package stopwords is already up-to-date!\n"
     ]
    }
   ],
   "source": [
    "# print(nltk_data[1500])\n",
    "import nltk\n",
    "from nltk.corpus import stopwords\n",
    "\n",
    "# Download the stopwords dataset if not already downloaded\n",
    "nltk.download('stopwords')\n",
    "re.sub(r'\\s+[1,]?')\n",
    "# Get the list of English stopwords\n",
    "stop_words = set(stopwords.words('english'))\n",
    "print(stop_words,'stop_word')\n",
    "# Sample text\n",
    "text = \"This is a sample sentence, showing off the stop words filtration.\"\n",
    "\n",
    "# Tokenize the text\n",
    "words = nltk.word_tokenize(text)\n",
    "print(words,'this is work')\n",
    "# Remove stopwords\n",
    "filtered_words = [word for word in words if word.lower() not in stop_words]\n",
    "#\n",
    "print(\"Original text:\", text)\n",
    "print(\"Filtered text:\", \" \".join(filtered_words))\n"
   ]
  },
  {
   "cell_type": "code",
   "execution_count": null,
   "metadata": {},
   "outputs": [],
   "source": [
    "import numpy as np\n",
    "\n",
    "np.random.seed(999)\n",
    "text = '1232dwdweewfsfewrqwewiwqheqwhwhfohewqwedjw'\n",
    "clean_data = clean_review(text)\n"
   ]
  },
  {
   "cell_type": "code",
   "execution_count": null,
   "metadata": {},
   "outputs": [],
   "source": [
    "# from sklearn.svm import LinearSVC\n",
    "# from sklearn.pipeline import Pipeline\n",
    "# from sklearn.feature_extraction.text import TfidfTransformer\n",
    "# pipeline = pipeline([\n",
    "#     'vect',\n",
    "# ])\n",
    "from sklearn import metrics\n",
    "\n",
    "\n",
    "\n"
   ]
  }
 ],
 "metadata": {
  "kernelspec": {
   "display_name": "Python 3",
   "language": "python",
   "name": "python3"
  },
  "language_info": {
   "codemirror_mode": {
    "name": "ipython",
    "version": 3
   },
   "file_extension": ".py",
   "mimetype": "text/x-python",
   "name": "python",
   "nbconvert_exporter": "python",
   "pygments_lexer": "ipython3",
   "version": "3.10.5"
  }
 },
 "nbformat": 4,
 "nbformat_minor": 2
}
