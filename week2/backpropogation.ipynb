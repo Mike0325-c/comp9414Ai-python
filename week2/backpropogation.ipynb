{
 "cells": [
  {
   "cell_type": "code",
   "execution_count": 5,
   "metadata": {},
   "outputs": [
    {
     "name": "stdout",
     "output_type": "stream",
     "text": [
      "[[0.0308438 ]\n",
      " [0.94749029]\n",
      " [0.95366641]\n",
      " [0.0692261 ]]\n"
     ]
    }
   ],
   "source": [
    "import numpy as np\n",
    "\n",
    "class NeuralNetwork:\n",
    "    def __init__(self, input_size, hidden_size, output_size):\n",
    "        self.input_size = input_size\n",
    "        self.hidden_size = hidden_size\n",
    "        self.output_size = output_size\n",
    "\n",
    "        # Initialize weights\n",
    "        self.weights_input_hidden = np.random.randn(self.input_size, self.hidden_size)\n",
    "        self.weights_hidden_output = np.random.randn(self.hidden_size, self.output_size)\n",
    "\n",
    "        # Initialize the biases\n",
    "        self.bias_hidden = np.zeros((1, self.hidden_size))\n",
    "        self.bias_output = np.zeros((1, self.output_size))\n",
    "\n",
    "    def sigmoid(self, x):\n",
    "        return 1 / (1 + np.exp(-x))\n",
    "\n",
    "    def sigmoid_derivative(self, x):\n",
    "        return x * (1 - x)\n",
    "\n",
    "    def feedforward(self, X):\n",
    "        # Input to hidden\n",
    "        self.hidden_activation = np.dot(X, self.weights_input_hidden) + self.bias_hidden\n",
    "        self.hidden_output = self.sigmoid(self.hidden_activation)\n",
    "\n",
    "        # Hidden to output\n",
    "        self.output_activation = np.dot(self.hidden_output, self.weights_hidden_output) + self.bias_output\n",
    "        self.predicted_output = self.sigmoid(self.output_activation)\n",
    "\n",
    "        return self.predicted_output\n",
    "\n",
    "    def backward(self, X, y, learning_rate):\n",
    "        # Compute the output layer error\n",
    "        output_error = y - self.predicted_output\n",
    "        output_delta = output_error * self.sigmoid_derivative(self.predicted_output)\n",
    "\n",
    "        # Compute the hidden layer error\n",
    "        hidden_error = np.dot(output_delta, self.weights_hidden_output.T)\n",
    "        hidden_delta = hidden_error * self.sigmoid_derivative(self.hidden_output)\n",
    "\n",
    "        # Update weights and biases\n",
    "        self.weights_hidden_output += np.dot(self.hidden_output.T, output_delta) * learning_rate\n",
    "        self.bias_output += np.sum(output_delta, axis=0, keepdims=True) * learning_rate\n",
    "        self.weights_input_hidden += np.dot(X.T, hidden_delta) * learning_rate\n",
    "        self.bias_hidden += np.sum(hidden_delta, axis=0, keepdims=True) * learning_rate\n",
    "\n",
    "    def train(self, X, y, epochs, learning_rate):\n",
    "        for epoch in range(epochs):\n",
    "            output = self.feedforward(X)\n",
    "            self.backward(X, y, learning_rate)\n",
    "            if epoch % 4000 == 0:\n",
    "                loss = np.mean(np.square(y - output))\n",
    "                # print(f&quot;Epoch {epoch}, Loss:{loss}&quot;)\n",
    "\n",
    "X = np.array([[0, 0], [0, 1], [1, 0], [1, 1]])\n",
    "y = np.array([[0], [1], [1], [0]])\n",
    "\n",
    "nn = NeuralNetwork(input_size=2, hidden_size=4, output_size=1)\n",
    "nn.train(X, y, epochs=10000, learning_rate=0.1)\n",
    "\n",
    "# Test the trained model\n",
    "output = nn.feedforward(X)\n",
    "# print(&quot;Predictions after training:&quot;)\n",
    "print(output)"
   ]
  }
 ],
 "metadata": {
  "kernelspec": {
   "display_name": "comp9414",
   "language": "python",
   "name": "python3"
  },
  "language_info": {
   "codemirror_mode": {
    "name": "ipython",
    "version": 3
   },
   "file_extension": ".py",
   "mimetype": "text/x-python",
   "name": "python",
   "nbconvert_exporter": "python",
   "pygments_lexer": "ipython3",
   "version": "3.10.13"
  }
 },
 "nbformat": 4,
 "nbformat_minor": 2
}
