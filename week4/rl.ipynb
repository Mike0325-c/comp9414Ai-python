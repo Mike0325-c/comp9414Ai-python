{
 "cells": [
  {
   "cell_type": "code",
   "execution_count": 18,
   "metadata": {},
   "outputs": [],
   "source": [
    "import numpy as np\n",
    "import matplotlib.pyplot as plt\n",
    "\n",
    "class World(object):\n",
    "\n",
    "    def __init__(self, x, y):\n",
    "        self.x = x\n",
    "        self.y = y\n",
    "        self.R = np.zeros(self.x*self.y)\n",
    "        self.agentPos = 0\n",
    "\n",
    "    def idx2xy(self,idx):\n",
    "        x = int(idx / self.y)\n",
    "        y = idx % self.y\n",
    "        return x, y\n",
    "\n",
    "    def xy2idx(self,x,y):\n",
    "        return x*self.y + y\n",
    "\n",
    "    def resetAgent(self, pos):\n",
    "        self.agentPos = int(pos)\n",
    "\n",
    "    def setReward(self, x, y, r):\n",
    "        goalState = self.xy2idx(x, y)\n",
    "        self.R[goalState] = r\n",
    "\n",
    "    def getState(self):\n",
    "        return self.agentPos\n",
    "\n",
    "    def getReward(self):\n",
    "        if self.agentPos == -1:\n",
    "            return -1.0\n",
    "        else:\n",
    "            return self.R[self.agentPos]\n",
    "\n",
    "    def getNumOfStates(self):\n",
    "        return self.x*self.y\n",
    "\n",
    "    def getNumOfActions(self):\n",
    "        return 4\n",
    "\n",
    "    def move(self,id):\n",
    "        x_, y_ = self.idx2xy(self.agentPos)\n",
    "        tmpX = x_\n",
    "        tmpY = y_\n",
    "        if id == 0: # move DOWN\n",
    "            tmpX += 1\n",
    "        elif id == 1: # move UP\n",
    "            tmpX -= 1\n",
    "        elif id == 2: # move RIGHT\n",
    "            tmpY += 1\n",
    "        elif id == 3: # move LEFT\n",
    "            tmpY -= 1\n",
    "        else:\n",
    "            print(\"ERROR: Unknown action\")\n",
    "\n",
    "        if self.validMove(tmpX, tmpY):\n",
    "            self.agentPos = self.xy2idx(tmpX,tmpY)\n",
    "\n",
    "    def validMove(self,x,y):\n",
    "        valid = True\n",
    "        if x < 0 or x >= self.x:\n",
    "            valid = False\n",
    "        if y < 0 or y >= self.y:\n",
    "            valid = False\n",
    "        return valid\n"
   ]
  },
  {
   "cell_type": "code",
   "execution_count": 20,
   "metadata": {},
   "outputs": [],
   "source": [
    "class Agent(object):\n",
    "    def __init__(self, world):\n",
    "        self.world = world\n",
    "        self.numOfActions = self.world.getNumOfActions()\n",
    "        self.numOfStates = self.world.getNumOfStates()\n",
    "        self.Q = np.random.uniform(0.0,0.01,(self.numOfStates,self.numOfActions))\n",
    "        self.alpha = 0.7\n",
    "        self.gamma = 0.4\n",
    "        self.epsilon = 0.25\n",
    "\n",
    "    # epsilon-greedy action selection\n",
    "    def actionSelection(self, state):\n",
    "        if (np.random.rand() <= self.epsilon):\n",
    "            action = np.random.randint(self.numOfActions)\n",
    "        else:\n",
    "            action = np.argmax(self.Q[state,:])\n",
    "\n",
    "        return action\n",
    "\n",
    "    def train(self, iter):\n",
    "        for itr in range(iter):\n",
    "\n",
    "            state = int(np.random.randint(0,self.numOfStates))\n",
    "            self.world.resetAgent(state)\n",
    "\n",
    "            # choose action\n",
    "            a = self.actionSelection(state)\n",
    "            expisode = True\n",
    "\n",
    "            while expisode:\n",
    "                # perform action\n",
    "                self.world.move(a)\n",
    "                # look for reward\n",
    "                reward = self.world.getReward()\n",
    "                state_new = int(self.world.getState())\n",
    "\n",
    "                # new action\n",
    "                a_new = self.actionSelection(state_new)\n",
    "\n",
    "                # update Q-values\n",
    "                self.Q[state,a] += self.alpha*(reward +\n",
    "                                    self.gamma*self.Q[state_new,a_new]-\n",
    "                                    self.Q[state,a])\n",
    "\n",
    "                state = state_new\n",
    "                a = a_new\n",
    "\n",
    "                if reward == 1.0:\n",
    "                    self.Q[state_new,:] = 0\n",
    "                    expisode = False\n",
    "\n",
    "        print(self.Q)\n",
    "    \n",
    "    def plotQValues(self):\n",
    "        plt.rcParams.update({'font.size': 18})\n",
    "        plt.imshow(self.Q, cmap='Oranges', interpolation='nearest', aspect='auto')\n",
    "        plt.colorbar()\n",
    "        plt.title(\"Q-values\")\n",
    "        plt.xlabel(\"Actions\")\n",
    "        plt.ylabel(\"States\")\n",
    "        plt.xticks(np.arange(4), ('Down', 'Up', 'Right', 'Left'))\n",
    "        plt.yticks(np.arange(self.numOfStates), np.arange(self.numOfStates))\n",
    "        plt.show()\n"
   ]
  },
  {
   "cell_type": "code",
   "execution_count": 21,
   "metadata": {},
   "outputs": [
    {
     "name": "stdout",
     "output_type": "stream",
     "text": [
      "[[-0.01733069 -0.00817863 -0.26400558 -0.01968705]\n",
      " [-0.94573725 -0.09110744  0.05974013 -0.00837405]\n",
      " [ 0.035029    0.04063734  0.08797247  0.00485197]\n",
      " [ 0.39316924  0.10794656  0.06115156  0.02327913]\n",
      " [ 0.05919065 -0.00754517 -0.9705487  -0.02308473]\n",
      " [ 0.15767025  0.01305725  0.05106004  0.00102416]\n",
      " [ 0.13037128  0.01989972  0.32156212 -0.9742612 ]\n",
      " [ 1.          0.10598937  0.38476667  0.06702453]\n",
      " [-0.00609831 -0.00283453  0.15997638  0.00755228]\n",
      " [ 0.1492548  -0.94134126  0.4        -0.00905771]\n",
      " [ 0.36776471  0.08608059  1.          0.07074075]\n",
      " [ 0.          0.          0.          0.        ]]\n"
     ]
    },
    {
     "data": {
      "image/png": "[encoded data removed]",
      "text/plain": [
       "<Figure size 432x288 with 2 Axes>"
      ]
     },
     "metadata": {
      "needs_background": "light"
     },
     "output_type": "display_data"
    }
   ],
   "source": [
    "#Section 3.a.\n",
    "world = World(3,4)\n",
    "\n",
    "#Section 3.b.\n",
    "world.setReward(2, 3, 1.0) #Goal state\n",
    "world.setReward(1, 1, -1.0) #Fear region\n",
    "\n",
    "#Section 3.c.\n",
    "learner = Agent(world)\n",
    "\n",
    "#Section 3.d.\n",
    "learner.train(1000)\n",
    "\n",
    "#Section 3.e.\n",
    "learner.plotQValues()"
   ]
  },
  {
   "cell_type": "code",
   "execution_count": 24,
   "metadata": {},
   "outputs": [
    {
     "name": "stdout",
     "output_type": "stream",
     "text": [
      "[[0.0019934  0.00704045 0.00060678 0.00688456]\n",
      " [0.00082835 0.009903   0.00757745 0.00791633]\n",
      " [0.00110724 0.00167273 0.00596171 0.00915084]]\n",
      "1\n"
     ]
    }
   ],
   "source": [
    "aa = np.random.uniform(0.0,0.01,(3,4))\n",
    "max = np.argmax(aa[0,:])\n",
    "print(aa)\n",
    "print(max)\n",
    "print(aa[1,1:])"
   ]
  }
 ],
 "metadata": {
  "kernelspec": {
   "display_name": "Python 3",
   "language": "python",
   "name": "python3"
  },
  "language_info": {
   "codemirror_mode": {
    "name": "ipython",
    "version": 3
   },
   "file_extension": ".py",
   "mimetype": "text/x-python",
   "name": "python",
   "nbconvert_exporter": "python",
   "pygments_lexer": "ipython3",
   "version": "3.10.5"
  }
 },
 "nbformat": 4,
 "nbformat_minor": 2
}
