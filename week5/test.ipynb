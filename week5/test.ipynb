{
 "cells": [
  {
   "cell_type": "code",
   "execution_count": 2,
   "metadata": {},
   "outputs": [
    {
     "name": "stdout",
     "output_type": "stream",
     "text": [
      "[0, 1, 1, 2, 3, 5, 8, 13, 21, 34]\n",
      "[0, 1, 1, 2, 3, 5, 8, 13, 21, 34]\n"
     ]
    }
   ],
   "source": [
    "def fibonacci(limit):\n",
    "    \"\"\"Generate a list of Fibonacci numbers up to a specified limit.\"\"\"\n",
    "    fib_sequence = [0, 1]\n",
    "    while True:\n",
    "        next_fib = fib_sequence[-1] + fib_sequence[-2]\n",
    "        if next_fib > limit:\n",
    "            break\n",
    "        fib_sequence.append(next_fib)\n",
    "    return fib_sequence\n",
    "\n",
    "# Specify the limit\n",
    "limit = 50\n",
    "\n",
    "# Generate Fibonacci numbers within the limit\n",
    "fib_numbers = fibonacci(limit)\n",
    "print(fib_numbers)\n",
    "\n",
    "\n",
    "\n",
    "\n",
    "def fibonacci_recursive(n):\n",
    "    \"\"\"Generate Fibonacci numbers up to a specified number using recursion.\"\"\"\n",
    "    # Base cases\n",
    "    if n < 0:\n",
    "        return []\n",
    "    elif n == 0:\n",
    "        return [0]\n",
    "    elif n == 1:\n",
    "        return [0, 1]\n",
    "    \n",
    "    # Recursive case\n",
    "    fib_sequence = fibonacci_recursive(n - 1)\n",
    "    next_fib = fib_sequence[-1] + fib_sequence[-2]\n",
    "    if next_fib <= n:\n",
    "        fib_sequence.append(next_fib)\n",
    "    return fib_sequence\n",
    "\n",
    "# Specify the limit\n",
    "limit = 50\n",
    "\n",
    "# Generate Fibonacci numbers within the limit\n",
    "fib_numbers = fibonacci_recursive(limit)\n",
    "print(fib_numbers)\n",
    "\n"
   ]
  },
  {
   "cell_type": "code",
   "execution_count": 8,
   "metadata": {},
   "outputs": [
    {
     "name": "stdout",
     "output_type": "stream",
     "text": [
      "[2, 3, 5, 7, 11, 13, 17, 19, 23, 29, 31, 37, 41, 43, 47]\n"
     ]
    },
    {
     "ename": "",
     "evalue": "",
     "output_type": "error",
     "traceback": [
      "\u001b[1;31mThe Kernel crashed while executing code in the current cell or a previous cell. \n",
      "\u001b[1;31mPlease review the code in the cell(s) to identify a possible cause of the failure. \n",
      "\u001b[1;31mClick <a href='https://aka.ms/vscodeJupyterKernelCrash'>here</a> for more info. \n",
      "\u001b[1;31mView Jupyter <a href='command:jupyter.viewOutput'>log</a> for further details."
     ]
    }
   ],
   "source": [
    "import math\n",
    "def prime_number(n):\n",
    "    if (n <= 1):\n",
    "        return False\n",
    "    \n",
    "    for i in range(2,int(math.sqrt(n))+1):\n",
    "        if n % i == 0:\n",
    "            return False\n",
    "        \n",
    "    return True\n",
    "    \n",
    "def list_prime(number):\n",
    "    prime = []\n",
    "    \n",
    "    for i in range(number):\n",
    "        if prime_number(i):\n",
    "            prime.append(i)\n",
    "            \n",
    "    return prime\n",
    "\n",
    "print(list_prime(50))"
   ]
  },
  {
   "cell_type": "code",
   "execution_count": null,
   "metadata": {},
   "outputs": [],
   "source": []
  }
 ],
 "metadata": {
  "kernelspec": {
   "display_name": "Python 3",
   "language": "python",
   "name": "python3"
  },
  "language_info": {
   "codemirror_mode": {
    "name": "ipython",
    "version": 3
   },
   "file_extension": ".py",
   "mimetype": "text/x-python",
   "name": "python",
   "nbconvert_exporter": "python",
   "pygments_lexer": "ipython3",
   "version": "3.10.5"
  }
 },
 "nbformat": 4,
 "nbformat_minor": 2
}
